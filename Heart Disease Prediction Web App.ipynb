{
 "cells": [
  {
   "cell_type": "code",
   "execution_count": 1,
   "id": "4927e950",
   "metadata": {},
   "outputs": [],
   "source": [
    "from flask import Flask,request,render_template\n",
    "import pickle as pkl\n",
    "import pandas as pd\n",
    "import numpy as np"
   ]
  },
  {
   "cell_type": "code",
   "execution_count": 2,
   "id": "4e6a692e",
   "metadata": {},
   "outputs": [],
   "source": [
    "# Create a Web Server Gateway Interface (WSGI) application.\n",
    "\n",
    "app = Flask(__name__)"
   ]
  },
  {
   "cell_type": "code",
   "execution_count": 3,
   "id": "aa8e1cc2",
   "metadata": {},
   "outputs": [],
   "source": [
    "# To display the home page.\n",
    "\n",
    "@app.route('/',methods = ['GET'])\n",
    "def home_page():\n",
    "    return render_template('home.html')"
   ]
  },
  {
   "cell_type": "code",
   "execution_count": 4,
   "id": "4b8fc303",
   "metadata": {},
   "outputs": [],
   "source": [
    "# To load the pickle files of Standard Scaler & Logistic Regression with Grid Search CV.\n",
    "\n",
    "standard_scaler = pkl.load(open('StandardScaler.pkl','rb'))\n",
    "log_reg_grid = pkl.load(open('LogRegGrid.pkl','rb'))"
   ]
  },
  {
   "cell_type": "code",
   "execution_count": 5,
   "id": "749fc791",
   "metadata": {},
   "outputs": [],
   "source": [
    "# To predict the heart disease using Logistic Regression with Grid Search CV.\n",
    "\n",
    "@app.route('/predictdata',methods = ['GET','POST'])\n",
    "def predict_data():\n",
    "    print(request.method)\n",
    "    if request.method == 'POST':\n",
    "        Age = int(request.form.get('age'))\n",
    "        Sex = int(request.form.get('sex'))\n",
    "        CP = int(request.form.get('cp'))\n",
    "        TRESTBPS = int(request.form.get('trestbps'))\n",
    "        CHOL = int(request.form.get('chol'))\n",
    "        FBS = int(request.form.get('fbs'))\n",
    "        RESTECG = int(request.form.get('restecg'))\n",
    "        THALACH = int(request.form.get('thalach'))\n",
    "        EXANG = int(request.form.get('exang'))\n",
    "        OLDPEAK = float(request.form.get('oldpeak'))\n",
    "        SLOPE = int(request.form.get('slope'))\n",
    "        CA = int(request.form.get('ca'))\n",
    "        THAL = int(request.form.get('thal'))\n",
    "        \n",
    "       # Convert the above values into a 2D-array or a dataframe (for standardization & model prediction)\n",
    "        new_df = pd.DataFrame({\n",
    "            'age' : [Age],\n",
    "            'sex' : [Sex],\n",
    "            'cp' : [CP],\n",
    "            'trestbps' : [TRESTBPS],\n",
    "            'chol' : [CHOL],\n",
    "            'fbs' : [FBS],\n",
    "            'restecg' : [RESTECG],\n",
    "            'thalach' : [THALACH],\n",
    "            'exang' : [EXANG],\n",
    "            'oldpeak' : [OLDPEAK],\n",
    "            'slope' : [SLOPE],\n",
    "            'ca' : [CA],\n",
    "            'thal' : [THAL]\n",
    "        })\n",
    "        \n",
    "        # Perform Standardization.\n",
    "        new_df_scaled = standard_scaler.transform(new_df)\n",
    "        \n",
    "        # Perform Model Prediction.\n",
    "        output = log_reg_grid.predict_proba(new_df_scaled)\n",
    "        prob_one = output[0][1]*100\n",
    "        \n",
    "        return render_template('Parameters.html', age = Age, sex = Sex, cp = CP, trestbps = TRESTBPS, \n",
    "                               chol = CHOL, fbs = FBS, restecg = RESTECG, thalach = THALACH, \n",
    "                               exang = EXANG, oldpeak = OLDPEAK, slope = SLOPE, ca = CA, thal = THAL, \n",
    "                               result = round(prob_one,2))\n",
    "    else:\n",
    "        return render_template('Parameters.html')"
   ]
  },
  {
   "cell_type": "code",
   "execution_count": 6,
   "id": "fcbae8fd",
   "metadata": {},
   "outputs": [
    {
     "name": "stdout",
     "output_type": "stream",
     "text": [
      " * Serving Flask app '__main__'\n",
      " * Debug mode: off\n"
     ]
    },
    {
     "name": "stderr",
     "output_type": "stream",
     "text": [
      "WARNING: This is a development server. Do not use it in a production deployment. Use a production WSGI server instead.\n",
      " * Running on all addresses (0.0.0.0)\n",
      " * Running on http://127.0.0.1:8000\n",
      " * Running on http://192.168.29.125:8000\n",
      "Press CTRL+C to quit\n",
      "127.0.0.1 - - [01/Mar/2025 14:33:14] \"GET / HTTP/1.1\" 200 -\n",
      "127.0.0.1 - - [01/Mar/2025 14:33:16] \"GET /predictdata HTTP/1.1\" 200 -\n"
     ]
    },
    {
     "name": "stdout",
     "output_type": "stream",
     "text": [
      "GET\n"
     ]
    },
    {
     "name": "stderr",
     "output_type": "stream",
     "text": [
      "127.0.0.1 - - [01/Mar/2025 14:33:33] \"POST /predictdata HTTP/1.1\" 200 -\n"
     ]
    },
    {
     "name": "stdout",
     "output_type": "stream",
     "text": [
      "POST\n"
     ]
    },
    {
     "name": "stderr",
     "output_type": "stream",
     "text": [
      "127.0.0.1 - - [01/Mar/2025 14:33:57] \"POST /predictdata HTTP/1.1\" 200 -\n"
     ]
    },
    {
     "name": "stdout",
     "output_type": "stream",
     "text": [
      "POST\n"
     ]
    },
    {
     "name": "stderr",
     "output_type": "stream",
     "text": [
      "127.0.0.1 - - [01/Mar/2025 14:34:02] \"GET /predictdata HTTP/1.1\" 200 -\n"
     ]
    },
    {
     "name": "stdout",
     "output_type": "stream",
     "text": [
      "GET\n"
     ]
    },
    {
     "name": "stderr",
     "output_type": "stream",
     "text": [
      "127.0.0.1 - - [01/Mar/2025 14:35:31] \"POST /predictdata HTTP/1.1\" 200 -\n"
     ]
    },
    {
     "name": "stdout",
     "output_type": "stream",
     "text": [
      "POST\n"
     ]
    }
   ],
   "source": [
    "# Run the application.\n",
    "if __name__ == \"__main__\":\n",
    "    app.run(host = '0.0.0.0', port = 8000)"
   ]
  },
  {
   "cell_type": "code",
   "execution_count": null,
   "id": "dbc6433d",
   "metadata": {},
   "outputs": [],
   "source": []
  },
  {
   "cell_type": "code",
   "execution_count": null,
   "id": "1fba3c7d",
   "metadata": {},
   "outputs": [],
   "source": []
  },
  {
   "cell_type": "code",
   "execution_count": null,
   "id": "f2ceb4bb",
   "metadata": {},
   "outputs": [],
   "source": [
    "# Points to Note:\n",
    "# 1. There shouldn't be any commas between type, name, value, required in HTML.\n",
    "# 2. In Parameters.html, the value in the value field should be same as name field (case-sensitive).\n"
   ]
  }
 ],
 "metadata": {
  "kernelspec": {
   "display_name": "Python 3 (ipykernel)",
   "language": "python",
   "name": "python3"
  },
  "language_info": {
   "codemirror_mode": {
    "name": "ipython",
    "version": 3
   },
   "file_extension": ".py",
   "mimetype": "text/x-python",
   "name": "python",
   "nbconvert_exporter": "python",
   "pygments_lexer": "ipython3",
   "version": "3.10.9"
  }
 },
 "nbformat": 4,
 "nbformat_minor": 5
}
